{
 "cells": [
  {
   "cell_type": "markdown",
   "metadata": {},
   "source": [
    "Data Repository: http://wiki.setiquest.info/index.php/SetiQuest_Data"
   ]
  },
  {
   "cell_type": "code",
   "execution_count": null,
   "metadata": {},
   "outputs": [],
   "source": [
    "import bitstring\n",
    "from bitstring import BitArray, BitStream, ConstBitStream, Bits\n",
    "from struct import *\n",
    "import numpy as np\n",
    "import matplotlib.pyplot as plt\n",
    "from scipy import signal"
   ]
  },
  {
   "cell_type": "markdown",
   "metadata": {},
   "source": [
    "#### Specify number of samples and filename"
   ]
  },
  {
   "cell_type": "code",
   "execution_count": null,
   "metadata": {},
   "outputs": [],
   "source": [
    "num_samples = 10000\n",
    "filename = \"2010-07-02-3c48_1-8bit-01.dat\""
   ]
  },
  {
   "cell_type": "markdown",
   "metadata": {},
   "source": [
    "#### Get Complex Samples"
   ]
  },
  {
   "cell_type": "code",
   "execution_count": null,
   "metadata": {},
   "outputs": [],
   "source": [
    "b_arr = []\n",
    "with open(filename, \"rb\") as f:\n",
    "    byte = f.read(1)\n",
    "    for i in range(num_complex_nums*2):\n",
    "        # Do stuff with byte.\n",
    "        byte = f.read(1)\n",
    "        the_int = unpack('b', byte)\n",
    "        b_arr.append(the_int[0])\n",
    "\n",
    "complex_nums = []\n",
    "for i in range(0,num_complex_nums,2):\n",
    "    complex_nums.append(b_arr[i] + 1j*b_arr[i+1])\n",
    "print(complex_nums)\n",
    "# Do stuff"
   ]
  },
  {
   "cell_type": "code",
   "execution_count": null,
   "metadata": {},
   "outputs": [],
   "source": []
  }
 ],
 "metadata": {
  "kernelspec": {
   "display_name": "Python 3",
   "language": "python",
   "name": "python3"
  },
  "language_info": {
   "codemirror_mode": {
    "name": "ipython",
    "version": 3
   },
   "file_extension": ".py",
   "mimetype": "text/x-python",
   "name": "python",
   "nbconvert_exporter": "python",
   "pygments_lexer": "ipython3",
   "version": "3.6.7"
  }
 },
 "nbformat": 4,
 "nbformat_minor": 2
}
